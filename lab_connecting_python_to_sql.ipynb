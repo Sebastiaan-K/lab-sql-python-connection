{
 "cells": [
  {
   "cell_type": "markdown",
   "id": "94ecf1d3",
   "metadata": {},
   "source": [
    "# Establish a connection between Python and the Sakila database."
   ]
  },
  {
   "cell_type": "code",
   "execution_count": 1,
   "id": "7f8ff2fc",
   "metadata": {
    "ExecuteTime": {
     "end_time": "2023-10-25T00:35:23.151200Z",
     "start_time": "2023-10-25T00:35:22.482008Z"
    }
   },
   "outputs": [],
   "source": [
    "import pandas as pd\n",
    "import numpy as np\n",
    "\n",
    "import pymysql\n",
    "from sqlalchemy import create_engine\n",
    "\n",
    "import getpass  # To get the password without showing the input\n"
   ]
  },
  {
   "cell_type": "code",
   "execution_count": 2,
   "id": "7cf5681b",
   "metadata": {
    "ExecuteTime": {
     "end_time": "2023-10-25T00:35:36.432976Z",
     "start_time": "2023-10-25T00:35:23.152703Z"
    }
   },
   "outputs": [
    {
     "name": "stdout",
     "output_type": "stream",
     "text": [
      "········\n"
     ]
    }
   ],
   "source": [
    "password = getpass.getpass()"
   ]
  },
  {
   "cell_type": "code",
   "execution_count": 5,
   "id": "72b557a5",
   "metadata": {
    "ExecuteTime": {
     "end_time": "2023-10-25T00:37:33.343583Z",
     "start_time": "2023-10-25T00:37:32.958408Z"
    }
   },
   "outputs": [
    {
     "data": {
      "text/html": [
       "<div>\n",
       "<style scoped>\n",
       "    .dataframe tbody tr th:only-of-type {\n",
       "        vertical-align: middle;\n",
       "    }\n",
       "\n",
       "    .dataframe tbody tr th {\n",
       "        vertical-align: top;\n",
       "    }\n",
       "\n",
       "    .dataframe thead th {\n",
       "        text-align: right;\n",
       "    }\n",
       "</style>\n",
       "<table border=\"1\" class=\"dataframe\">\n",
       "  <thead>\n",
       "    <tr style=\"text-align: right;\">\n",
       "      <th></th>\n",
       "      <th>rental_id</th>\n",
       "      <th>rental_date</th>\n",
       "      <th>inventory_id</th>\n",
       "      <th>customer_id</th>\n",
       "      <th>return_date</th>\n",
       "      <th>staff_id</th>\n",
       "      <th>last_update</th>\n",
       "    </tr>\n",
       "  </thead>\n",
       "  <tbody>\n",
       "    <tr>\n",
       "      <th>0</th>\n",
       "      <td>1</td>\n",
       "      <td>2005-05-24 22:53:30</td>\n",
       "      <td>367</td>\n",
       "      <td>130</td>\n",
       "      <td>2005-05-26 22:04:30</td>\n",
       "      <td>1</td>\n",
       "      <td>2006-02-15 21:30:53</td>\n",
       "    </tr>\n",
       "    <tr>\n",
       "      <th>1</th>\n",
       "      <td>2</td>\n",
       "      <td>2005-05-24 22:54:33</td>\n",
       "      <td>1525</td>\n",
       "      <td>459</td>\n",
       "      <td>2005-05-28 19:40:33</td>\n",
       "      <td>1</td>\n",
       "      <td>2006-02-15 21:30:53</td>\n",
       "    </tr>\n",
       "    <tr>\n",
       "      <th>2</th>\n",
       "      <td>3</td>\n",
       "      <td>2005-05-24 23:03:39</td>\n",
       "      <td>1711</td>\n",
       "      <td>408</td>\n",
       "      <td>2005-06-01 22:12:39</td>\n",
       "      <td>1</td>\n",
       "      <td>2006-02-15 21:30:53</td>\n",
       "    </tr>\n",
       "    <tr>\n",
       "      <th>3</th>\n",
       "      <td>4</td>\n",
       "      <td>2005-05-24 23:04:41</td>\n",
       "      <td>2452</td>\n",
       "      <td>333</td>\n",
       "      <td>2005-06-03 01:43:41</td>\n",
       "      <td>2</td>\n",
       "      <td>2006-02-15 21:30:53</td>\n",
       "    </tr>\n",
       "    <tr>\n",
       "      <th>4</th>\n",
       "      <td>5</td>\n",
       "      <td>2005-05-24 23:05:21</td>\n",
       "      <td>2079</td>\n",
       "      <td>222</td>\n",
       "      <td>2005-06-02 04:33:21</td>\n",
       "      <td>1</td>\n",
       "      <td>2006-02-15 21:30:53</td>\n",
       "    </tr>\n",
       "    <tr>\n",
       "      <th>...</th>\n",
       "      <td>...</td>\n",
       "      <td>...</td>\n",
       "      <td>...</td>\n",
       "      <td>...</td>\n",
       "      <td>...</td>\n",
       "      <td>...</td>\n",
       "      <td>...</td>\n",
       "    </tr>\n",
       "    <tr>\n",
       "      <th>16039</th>\n",
       "      <td>16045</td>\n",
       "      <td>2005-08-23 22:25:26</td>\n",
       "      <td>772</td>\n",
       "      <td>14</td>\n",
       "      <td>2005-08-25 23:54:26</td>\n",
       "      <td>1</td>\n",
       "      <td>2006-02-15 21:30:53</td>\n",
       "    </tr>\n",
       "    <tr>\n",
       "      <th>16040</th>\n",
       "      <td>16046</td>\n",
       "      <td>2005-08-23 22:26:47</td>\n",
       "      <td>4364</td>\n",
       "      <td>74</td>\n",
       "      <td>2005-08-27 18:02:47</td>\n",
       "      <td>2</td>\n",
       "      <td>2006-02-15 21:30:53</td>\n",
       "    </tr>\n",
       "    <tr>\n",
       "      <th>16041</th>\n",
       "      <td>16047</td>\n",
       "      <td>2005-08-23 22:42:48</td>\n",
       "      <td>2088</td>\n",
       "      <td>114</td>\n",
       "      <td>2005-08-25 02:48:48</td>\n",
       "      <td>2</td>\n",
       "      <td>2006-02-15 21:30:53</td>\n",
       "    </tr>\n",
       "    <tr>\n",
       "      <th>16042</th>\n",
       "      <td>16048</td>\n",
       "      <td>2005-08-23 22:43:07</td>\n",
       "      <td>2019</td>\n",
       "      <td>103</td>\n",
       "      <td>2005-08-31 21:33:07</td>\n",
       "      <td>1</td>\n",
       "      <td>2006-02-15 21:30:53</td>\n",
       "    </tr>\n",
       "    <tr>\n",
       "      <th>16043</th>\n",
       "      <td>16049</td>\n",
       "      <td>2005-08-23 22:50:12</td>\n",
       "      <td>2666</td>\n",
       "      <td>393</td>\n",
       "      <td>2005-08-30 01:01:12</td>\n",
       "      <td>2</td>\n",
       "      <td>2006-02-15 21:30:53</td>\n",
       "    </tr>\n",
       "  </tbody>\n",
       "</table>\n",
       "<p>16044 rows × 7 columns</p>\n",
       "</div>"
      ],
      "text/plain": [
       "       rental_id         rental_date  inventory_id  customer_id  \\\n",
       "0              1 2005-05-24 22:53:30           367          130   \n",
       "1              2 2005-05-24 22:54:33          1525          459   \n",
       "2              3 2005-05-24 23:03:39          1711          408   \n",
       "3              4 2005-05-24 23:04:41          2452          333   \n",
       "4              5 2005-05-24 23:05:21          2079          222   \n",
       "...          ...                 ...           ...          ...   \n",
       "16039      16045 2005-08-23 22:25:26           772           14   \n",
       "16040      16046 2005-08-23 22:26:47          4364           74   \n",
       "16041      16047 2005-08-23 22:42:48          2088          114   \n",
       "16042      16048 2005-08-23 22:43:07          2019          103   \n",
       "16043      16049 2005-08-23 22:50:12          2666          393   \n",
       "\n",
       "              return_date  staff_id         last_update  \n",
       "0     2005-05-26 22:04:30         1 2006-02-15 21:30:53  \n",
       "1     2005-05-28 19:40:33         1 2006-02-15 21:30:53  \n",
       "2     2005-06-01 22:12:39         1 2006-02-15 21:30:53  \n",
       "3     2005-06-03 01:43:41         2 2006-02-15 21:30:53  \n",
       "4     2005-06-02 04:33:21         1 2006-02-15 21:30:53  \n",
       "...                   ...       ...                 ...  \n",
       "16039 2005-08-25 23:54:26         1 2006-02-15 21:30:53  \n",
       "16040 2005-08-27 18:02:47         2 2006-02-15 21:30:53  \n",
       "16041 2005-08-25 02:48:48         2 2006-02-15 21:30:53  \n",
       "16042 2005-08-31 21:33:07         1 2006-02-15 21:30:53  \n",
       "16043 2005-08-30 01:01:12         2 2006-02-15 21:30:53  \n",
       "\n",
       "[16044 rows x 7 columns]"
      ]
     },
     "metadata": {},
     "output_type": "display_data"
    }
   ],
   "source": [
    "user = 'root'  \n",
    "host = 'localhost'  \n",
    "database = 'sakila'  \n",
    "\n",
    "connection_string = f\"mysql+pymysql://{user}:{password}@{host}/{database}\"\n",
    "\n",
    "engine = create_engine(connection_string)\n",
    "\n",
    "data = pd.read_sql_query('SELECT * FROM rental', engine)\n",
    "display(data)\n"
   ]
  },
  {
   "cell_type": "code",
   "execution_count": 6,
   "id": "30c986b1",
   "metadata": {
    "ExecuteTime": {
     "end_time": "2023-10-25T00:37:39.456474Z",
     "start_time": "2023-10-25T00:37:39.453495Z"
    }
   },
   "outputs": [
    {
     "data": {
      "text/plain": [
       "(16044, 7)"
      ]
     },
     "execution_count": 6,
     "metadata": {},
     "output_type": "execute_result"
    }
   ],
   "source": [
    "data.shape"
   ]
  },
  {
   "cell_type": "code",
   "execution_count": 7,
   "id": "5ee539e3",
   "metadata": {
    "ExecuteTime": {
     "end_time": "2023-10-25T00:37:41.490517Z",
     "start_time": "2023-10-25T00:37:41.484344Z"
    }
   },
   "outputs": [
    {
     "data": {
      "text/html": [
       "<div>\n",
       "<style scoped>\n",
       "    .dataframe tbody tr th:only-of-type {\n",
       "        vertical-align: middle;\n",
       "    }\n",
       "\n",
       "    .dataframe tbody tr th {\n",
       "        vertical-align: top;\n",
       "    }\n",
       "\n",
       "    .dataframe thead th {\n",
       "        text-align: right;\n",
       "    }\n",
       "</style>\n",
       "<table border=\"1\" class=\"dataframe\">\n",
       "  <thead>\n",
       "    <tr style=\"text-align: right;\">\n",
       "      <th></th>\n",
       "      <th>rental_id</th>\n",
       "      <th>rental_date</th>\n",
       "      <th>inventory_id</th>\n",
       "      <th>customer_id</th>\n",
       "      <th>return_date</th>\n",
       "      <th>staff_id</th>\n",
       "      <th>last_update</th>\n",
       "    </tr>\n",
       "  </thead>\n",
       "  <tbody>\n",
       "    <tr>\n",
       "      <th>0</th>\n",
       "      <td>1</td>\n",
       "      <td>2005-05-24 22:53:30</td>\n",
       "      <td>367</td>\n",
       "      <td>130</td>\n",
       "      <td>2005-05-26 22:04:30</td>\n",
       "      <td>1</td>\n",
       "      <td>2006-02-15 21:30:53</td>\n",
       "    </tr>\n",
       "    <tr>\n",
       "      <th>1</th>\n",
       "      <td>2</td>\n",
       "      <td>2005-05-24 22:54:33</td>\n",
       "      <td>1525</td>\n",
       "      <td>459</td>\n",
       "      <td>2005-05-28 19:40:33</td>\n",
       "      <td>1</td>\n",
       "      <td>2006-02-15 21:30:53</td>\n",
       "    </tr>\n",
       "    <tr>\n",
       "      <th>2</th>\n",
       "      <td>3</td>\n",
       "      <td>2005-05-24 23:03:39</td>\n",
       "      <td>1711</td>\n",
       "      <td>408</td>\n",
       "      <td>2005-06-01 22:12:39</td>\n",
       "      <td>1</td>\n",
       "      <td>2006-02-15 21:30:53</td>\n",
       "    </tr>\n",
       "    <tr>\n",
       "      <th>3</th>\n",
       "      <td>4</td>\n",
       "      <td>2005-05-24 23:04:41</td>\n",
       "      <td>2452</td>\n",
       "      <td>333</td>\n",
       "      <td>2005-06-03 01:43:41</td>\n",
       "      <td>2</td>\n",
       "      <td>2006-02-15 21:30:53</td>\n",
       "    </tr>\n",
       "    <tr>\n",
       "      <th>4</th>\n",
       "      <td>5</td>\n",
       "      <td>2005-05-24 23:05:21</td>\n",
       "      <td>2079</td>\n",
       "      <td>222</td>\n",
       "      <td>2005-06-02 04:33:21</td>\n",
       "      <td>1</td>\n",
       "      <td>2006-02-15 21:30:53</td>\n",
       "    </tr>\n",
       "  </tbody>\n",
       "</table>\n",
       "</div>"
      ],
      "text/plain": [
       "   rental_id         rental_date  inventory_id  customer_id  \\\n",
       "0          1 2005-05-24 22:53:30           367          130   \n",
       "1          2 2005-05-24 22:54:33          1525          459   \n",
       "2          3 2005-05-24 23:03:39          1711          408   \n",
       "3          4 2005-05-24 23:04:41          2452          333   \n",
       "4          5 2005-05-24 23:05:21          2079          222   \n",
       "\n",
       "          return_date  staff_id         last_update  \n",
       "0 2005-05-26 22:04:30         1 2006-02-15 21:30:53  \n",
       "1 2005-05-28 19:40:33         1 2006-02-15 21:30:53  \n",
       "2 2005-06-01 22:12:39         1 2006-02-15 21:30:53  \n",
       "3 2005-06-03 01:43:41         2 2006-02-15 21:30:53  \n",
       "4 2005-06-02 04:33:21         1 2006-02-15 21:30:53  "
      ]
     },
     "execution_count": 7,
     "metadata": {},
     "output_type": "execute_result"
    }
   ],
   "source": [
    "data.head()"
   ]
  },
  {
   "cell_type": "markdown",
   "id": "30ec1b40",
   "metadata": {
    "ExecuteTime": {
     "end_time": "2023-10-25T00:25:53.075941Z",
     "start_time": "2023-10-25T00:25:53.071248Z"
    }
   },
   "source": [
    "# Write a Python function called rentals_month"
   ]
  },
  {
   "cell_type": "code",
   "execution_count": 8,
   "id": "c9e7cb59",
   "metadata": {
    "ExecuteTime": {
     "end_time": "2023-10-25T00:37:45.796120Z",
     "start_time": "2023-10-25T00:37:45.792854Z"
    }
   },
   "outputs": [],
   "source": [
    "def rentals_month(engine, month, year):\n",
    "    \"\"\"\n",
    "    Fetches rental data for a specific month and year from the Sakila database.\n",
    "    \n",
    "    Parameters:\n",
    "    - engine: SQLAlchemy engine object for the database connection.\n",
    "    - month: Integer representing the month.\n",
    "    - year: Integer representing the year.\n",
    "    \n",
    "    Returns:\n",
    "    - Pandas DataFrame containing rental data for the specified month and year.\n",
    "    \"\"\"\n",
    "    \n",
    "    query = f\"\"\"\n",
    "    SELECT *\n",
    "    FROM rental\n",
    "    WHERE YEAR(rental_date) = {year} AND MONTH(rental_date) = {month}\n",
    "    \"\"\"\n",
    "    \n",
    "    data = pd.read_sql_query(query, engine)\n",
    "    \n",
    "    return data"
   ]
  },
  {
   "cell_type": "markdown",
   "id": "7bc20230",
   "metadata": {},
   "source": [
    "# Develop a Python function called rental_count_month\n"
   ]
  },
  {
   "cell_type": "code",
   "execution_count": 9,
   "id": "05663f25",
   "metadata": {
    "ExecuteTime": {
     "end_time": "2023-10-25T00:37:47.777478Z",
     "start_time": "2023-10-25T00:37:47.774073Z"
    }
   },
   "outputs": [],
   "source": [
    "def rental_count_month(df, month, year):\n",
    "    \"\"\"\n",
    "    Returns a DataFrame containing the number of rentals made by each customer_id during the specified month and year.\n",
    "    \n",
    "    Parameters:\n",
    "    - df: Pandas DataFrame containing rental data for the specified month and year (from the rentals_month function).\n",
    "    - month: Integer representing the month.\n",
    "    - year: Integer representing the year.\n",
    "    \n",
    "    Returns:\n",
    "    - Pandas DataFrame with customer_id as index and number of rentals as values. Column name will be in the format \"rentals_MM_YYYY\".\n",
    "    \"\"\"\n",
    "    \n",
    "    rental_counts = df.groupby('customer_id').size()\n",
    "    \n",
    "    rental_counts.name = f'rentals_{month:02}_{year}'\n",
    "    \n",
    "    rental_counts_df = rental_counts.reset_index()\n",
    "    \n",
    "    return rental_counts_df"
   ]
  },
  {
   "cell_type": "markdown",
   "id": "f4684874",
   "metadata": {},
   "source": [
    "# Create a Python function called compare_rentals"
   ]
  },
  {
   "cell_type": "code",
   "execution_count": null,
   "id": "9645cade",
   "metadata": {
    "ExecuteTime": {
     "end_time": "2023-10-25T00:35:36.987249Z",
     "start_time": "2023-10-25T00:35:36.987249Z"
    }
   },
   "outputs": [],
   "source": [
    "def compare_rentals(df1, df2):\n",
    "    \"\"\"\n",
    "    Compares the number of rentals between two DataFrames and returns the difference.\n",
    "    \n",
    "    Parameters:\n",
    "    - df1: Pandas DataFrame containing rental counts for the first month/year.\n",
    "    - df2: Pandas DataFrame containing rental counts for the second month/year.\n",
    "    \n",
    "    Returns:\n",
    "    - Pandas DataFrame with customer_id as index, columns from both input DataFrames, and a 'difference' column.\n",
    "    \"\"\"\n",
    "    \n",
    "    merged_df = pd.merge(df1, df2, on='customer_id', how='outer').fillna(0)\n",
    "    \n",
    "    column1, column2 = merged_df.columns[1], merged_df.columns[2]\n",
    "    \n",
    "    merged_df['difference'] = merged_df[column1] - merged_df[column2]\n",
    "    \n",
    "    return merged_df"
   ]
  },
  {
   "cell_type": "code",
   "execution_count": null,
   "id": "64df363a",
   "metadata": {},
   "outputs": [],
   "source": []
  }
 ],
 "metadata": {
  "kernelspec": {
   "display_name": "Python 3 (ipykernel)",
   "language": "python",
   "name": "python3"
  },
  "language_info": {
   "codemirror_mode": {
    "name": "ipython",
    "version": 3
   },
   "file_extension": ".py",
   "mimetype": "text/x-python",
   "name": "python",
   "nbconvert_exporter": "python",
   "pygments_lexer": "ipython3",
   "version": "3.11.5"
  },
  "toc": {
   "base_numbering": 1,
   "nav_menu": {},
   "number_sections": true,
   "sideBar": true,
   "skip_h1_title": false,
   "title_cell": "Table of Contents",
   "title_sidebar": "Contents",
   "toc_cell": false,
   "toc_position": {},
   "toc_section_display": true,
   "toc_window_display": false
  }
 },
 "nbformat": 4,
 "nbformat_minor": 5
}
